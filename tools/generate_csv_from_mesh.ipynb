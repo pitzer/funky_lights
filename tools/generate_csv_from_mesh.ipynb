{
    "cells": [
        {
            "cell_type": "code",
            "execution_count": 1,
            "metadata": {},
            "outputs": [
                {
                    "name": "stdout",
                    "output_type": "stream",
                    "text": [
                        "[MeshConfig(mesh='../controller/mesh/dome.obj', cluster_eps=0.03, start_offset=0.1, end_offset=0.1, uid_offset=1, output_csv='../config/dome.csv'), MeshConfig(mesh='../controller/mesh/trunk.obj', cluster_eps=0.005, start_offset=0.01, end_offset=0.01, uid_offset=10, output_csv='../config/trunk.csv'), MeshConfig(mesh='../controller/mesh/head.obj', cluster_eps=0.03, start_offset=0.05, end_offset=0.05, uid_offset=60, output_csv='../config/head.csv'), MeshConfig(mesh='../controller/mesh/legs.obj', cluster_eps=0.03, start_offset=0.05, end_offset=0.05, uid_offset=80, output_csv='../config/legs.csv')]\n"
                    ]
                }
            ],
            "source": [
                "import csv\n",
                "\n",
                "import led_config_utils\n",
                "import mesh_config\n",
                "from funky_lights import wavefront, led_config"
            ]
        },
        {
            "cell_type": "code",
            "execution_count": 2,
            "metadata": {},
            "outputs": [
                {
                    "name": "stdout",
                    "output_type": "stream",
                    "text": [
                        "Segment dome/center: length=7.1m, num_clusters=32, num_leds=214\n",
                        "Segment dome/left: length=6.8m, num_clusters=43, num_leds=205\n",
                        "Segment dome/right: length=6.8m, num_clusters=43, num_leds=205\n",
                        "Segment trunk/Body1: length=5.0m, num_clusters=454, num_leds=150\n",
                        "Segment trunk/Body2: length=3.3m, num_clusters=281, num_leds=98\n",
                        "Segment trunk/Body3: length=3.0m, num_clusters=293, num_leds=91\n",
                        "Segment trunk/Body4: length=2.8m, num_clusters=259, num_leds=85\n",
                        "Segment trunk/Body5: length=2.6m, num_clusters=251, num_leds=79\n",
                        "Segment trunk/Body6: length=2.4m, num_clusters=217, num_leds=73\n",
                        "Segment trunk/Body7: length=2.2m, num_clusters=204, num_leds=67\n",
                        "Segment trunk/Body8: length=2.0m, num_clusters=157, num_leds=61\n",
                        "Segment trunk/Body9: length=1.9m, num_clusters=144, num_leds=56\n",
                        "Segment trunk/Body10: length=1.7m, num_clusters=155, num_leds=51\n",
                        "Segment trunk/Body11: length=1.6m, num_clusters=144, num_leds=47\n",
                        "Segment trunk/Body12: length=1.5m, num_clusters=141, num_leds=44\n",
                        "Segment trunk/Body13: length=1.4m, num_clusters=144, num_leds=41\n",
                        "Segment trunk/Body14: length=1.2m, num_clusters=65, num_leds=35\n",
                        "Segment trunk/Body16: length=1.3m, num_clusters=73, num_leds=38\n",
                        "Segment trunk/Body17: length=1.0m, num_clusters=57, num_leds=30\n",
                        "Segment trunk/Body18: length=0.9m, num_clusters=54, num_leds=28\n",
                        "Segment trunk/Body19: length=0.9m, num_clusters=48, num_leds=25\n",
                        "Segment trunk/Body20: length=0.8m, num_clusters=45, num_leds=23\n",
                        "Segment trunk/Body21: length=0.7m, num_clusters=40, num_leds=20\n",
                        "Segment trunk/Body22: length=0.6m, num_clusters=36, num_leds=18\n",
                        "Segment trunk/Body23: length=0.5m, num_clusters=30, num_leds=15\n",
                        "Segment trunk/Body24: length=0.4m, num_clusters=27, num_leds=13\n",
                        "Segment trunk/Body25: length=0.3m, num_clusters=22, num_leds=10\n",
                        "Segment trunk/Body26: length=0.2m, num_clusters=17, num_leds=7\n",
                        "Segment trunk/Body27: length=0.2m, num_clusters=12, num_leds=5\n",
                        "Segment trunk/Body28: length=1.0m, num_clusters=57, num_leds=30\n",
                        "Segment trunk/Body29: length=0.9m, num_clusters=54, num_leds=28\n",
                        "Segment trunk/Body30: length=0.9m, num_clusters=48, num_leds=25\n",
                        "Segment trunk/Body31: length=0.8m, num_clusters=45, num_leds=23\n",
                        "Segment trunk/Body32: length=0.7m, num_clusters=40, num_leds=20\n",
                        "Segment trunk/Body33: length=0.6m, num_clusters=36, num_leds=18\n",
                        "Segment trunk/Body34: length=0.5m, num_clusters=30, num_leds=15\n",
                        "Segment trunk/Body35: length=0.4m, num_clusters=27, num_leds=13\n",
                        "Segment trunk/Body36: length=0.3m, num_clusters=22, num_leds=10\n",
                        "Segment trunk/Body37: length=0.2m, num_clusters=17, num_leds=7\n",
                        "Segment trunk/Body38: length=0.2m, num_clusters=12, num_leds=5\n",
                        "Segment head/ring1: length=3.5m, num_clusters=23, num_leds=104\n",
                        "Segment head/center: length=2.9m, num_clusters=13, num_leds=85\n",
                        "Segment head/ring2: length=6.2m, num_clusters=45, num_leds=186\n",
                        "Segment head/left_ear: length=4.0m, num_clusters=19, num_leds=118\n",
                        "Segment head/right_ear: length=4.0m, num_clusters=19, num_leds=118\n",
                        "Segment head/left: length=5.4m, num_clusters=27, num_leds=163\n",
                        "Segment head/right: length=5.4m, num_clusters=25, num_leds=162\n",
                        "Segment head/ring3: length=6.2m, num_clusters=31, num_leds=185\n",
                        "Segment leg_back_right/Body1: length=4.9m, num_clusters=48, num_leds=147\n",
                        "Segment leg_back_right/Body2: length=1.7m, num_clusters=8, num_leds=50\n",
                        "Segment leg_back_right/Body3: length=1.6m, num_clusters=8, num_leds=48\n",
                        "Segment leg_back_right/Body4: length=2.3m, num_clusters=11, num_leds=67\n",
                        "Segment leg_back_right/Body5: length=2.1m, num_clusters=11, num_leds=62\n",
                        "Segment leg_back_right/Body6: length=1.2m, num_clusters=7, num_leds=35\n",
                        "Segment leg_back_right/Body7: length=1.1m, num_clusters=6, num_leds=33\n",
                        "Segment leg_back_right/Body8: length=1.0m, num_clusters=6, num_leds=30\n",
                        "Segment leg_back_right/Body1: length=4.9m, num_clusters=50, num_leds=147\n",
                        "Segment leg_front_right/Body1: length=5.5m, num_clusters=68, num_leds=164\n",
                        "Segment leg_front_right/Body2: length=1.5m, num_clusters=8, num_leds=44\n",
                        "Segment leg_front_right/Body3: length=1.4m, num_clusters=7, num_leds=40\n",
                        "Segment leg_front_right/Body4: length=1.2m, num_clusters=7, num_leds=37\n",
                        "Segment leg_front_right/Body5: length=0.8m, num_clusters=5, num_leds=24\n",
                        "Segment leg_front_right/Body6: length=1.1m, num_clusters=7, num_leds=33\n",
                        "Segment leg_front_right/Body1: length=4.6m, num_clusters=41, num_leds=137\n",
                        "Segment leg_back_left/Body1: length=4.9m, num_clusters=48, num_leds=147\n",
                        "Segment leg_back_left/Body2: length=1.7m, num_clusters=8, num_leds=50\n",
                        "Segment leg_back_left/Body3: length=1.6m, num_clusters=8, num_leds=48\n",
                        "Segment leg_back_left/Body4: length=2.3m, num_clusters=11, num_leds=67\n",
                        "Segment leg_back_left/Body5: length=2.1m, num_clusters=11, num_leds=62\n",
                        "Segment leg_back_left/Body6: length=1.2m, num_clusters=7, num_leds=35\n",
                        "Segment leg_back_left/Body7: length=1.1m, num_clusters=6, num_leds=33\n",
                        "Segment leg_back_left/Body8: length=1.0m, num_clusters=6, num_leds=30\n",
                        "Segment leg_back_left/Body1: length=4.9m, num_clusters=50, num_leds=147\n",
                        "Segment leg_front_left/Body1: length=5.5m, num_clusters=68, num_leds=164\n",
                        "Segment leg_front_left/Body2: length=1.5m, num_clusters=8, num_leds=44\n",
                        "Segment leg_front_left/Body3: length=1.4m, num_clusters=7, num_leds=40\n",
                        "Segment leg_front_left/Body4: length=1.2m, num_clusters=7, num_leds=37\n",
                        "Segment leg_front_left/Body5: length=0.8m, num_clusters=5, num_leds=24\n",
                        "Segment leg_front_left/Body6: length=1.1m, num_clusters=7, num_leds=33\n",
                        "Segment leg_front_left/Body1: length=4.6m, num_clusters=41, num_leds=137\n"
                    ]
                }
            ],
            "source": [
                "all_segments = {}\n",
                "for config in mesh_config.mesh_configs:\n",
                "    if config.mesh != '../controller/mesh/dome.obj':\n",
                "        continue\n",
                "    uid = config.uid_offset\n",
                "    mesh = wavefront.load_obj(config.mesh)\n",
                "    segments = []\n",
                "    for group in mesh.groups:\n",
                "        data = led_config_utils.prepare_data(group)\n",
                "        data_2d = led_config_utils.project_2d(data)\n",
                "        clusters, labels = led_config_utils.cluster(\n",
                "            data_2d, eps=config.cluster_eps, min_samples=3)\n",
                "        points, length = led_config_utils.generate_led_positions(\n",
                "            data, clusters, labels, start_offset=config.start_offset, end_offset=config.end_offset, leds_per_meter=30)\n",
                "        print('Segment %s: length=%.1fm, num_clusters=%s, num_leds=%s' %\n",
                "              (group.name, length, len(clusters), len(points)))\n",
                "        if len(points) == 0:\n",
                "            continue\n",
                "        segment = led_config.Segment(\n",
                "            uid=uid, name=group.name, points=points, num_leds=points.shape[0], length=length)\n",
                "        segments.append(segment)\n",
                "        all_segments[uid] = segment\n",
                "        led_config_utils.plot_segment(data, clusters, labels, points)\n",
                "        uid += 1\n",
                "\n",
                "    csv_header = ['uid', 'name', 'num_leds', 'length', 'reversed']\n",
                "    csv_data = []\n",
                "    for segment in segments:\n",
                "        csv_data.append([segment.uid,\n",
                "                        segment.name,\n",
                "                        segment.num_leds,\n",
                "                        segment.length,\n",
                "                        False])\n",
                "\n",
                "    with open(config.output_csv, 'w', encoding='utf-8') as f:\n",
                "        writer = csv.writer(f)\n",
                "        writer.writerow(csv_header)\n",
                "        for row in csv_data:\n",
                "            writer.writerow(row)\n"
            ]
        }
    ],
    "metadata": {
        "kernelspec": {
            "display_name": "Python 3.7.13 ('base')",
            "language": "python",
            "name": "python3"
        },
        "language_info": {
            "codemirror_mode": {
                "name": "ipython",
                "version": 3
            },
            "file_extension": ".py",
            "mimetype": "text/x-python",
            "name": "python",
            "nbconvert_exporter": "python",
            "pygments_lexer": "ipython3",
            "version": "3.7.13"
        },
        "orig_nbformat": 4,
        "vscode": {
            "interpreter": {
                "hash": "40d3a090f54c6569ab1632332b64b2c03c39dcf918b08424e98f38b5ae0af88f"
            }
        }
    },
    "nbformat": 4,
    "nbformat_minor": 2
}
