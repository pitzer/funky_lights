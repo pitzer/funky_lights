{
    "cells": [
        {
            "cell_type": "code",
            "execution_count": null,
            "metadata": {},
            "outputs": [],
            "source": [
                "import csv\n",
                "\n",
                "import led_config_utils\n",
                "import mesh_config\n",
                "from funky_lights import wavefront, led_config\n",
                "\n",
                "\n",
                "all_segments = {}\n",
                "for config in mesh_config.mesh_configs:\n",
                "    uid = config.uid_offset + 1\n",
                "    mesh = wavefront.load_obj(config.mesh)\n",
                "    segments=[]\n",
                "    for group in mesh.groups:\n",
                "        data = led_config_utils.prepare_data(group)\n",
                "        data_2d = led_config_utils.project_2d(data)\n",
                "        clusters, labels = led_config_utils.cluster(\n",
                "            data_2d, eps=config.cluster_eps, min_samples=3)\n",
                "        points, length = led_config_utils.generate_led_positions(\n",
                "            data, clusters, labels, start_offset=config.start_offset, end_offset=config.end_offset, leds_per_meter=30)\n",
                "        print('Segment %s: length=%.1fm, num_clusters=%s, num_leds=%s' %\n",
                "              (group.name, length, len(clusters), len(points)))\n",
                "        if len(points) == 0:\n",
                "            continue\n",
                "        segment = led_config.Segment(\n",
                "            uid=uid, name=group.name, points=points, num_leds=points.shape[0], length=length)\n",
                "        segments.append(segment)\n",
                "        all_segments[uid] = segment\n",
                "        # led_config_utils.plot_segment(data, clusters, labels, points)\n",
                "        uid += 1\n",
                "    \n",
                "    csv_header = ['uid', 'name', 'num_leds', 'length', 'reversed']\n",
                "    csv_data = []\n",
                "    for segment in segments:\n",
                "        csv_data.append([segment.uid, \n",
                "                        segment.name, \n",
                "                        segment.num_leds,\n",
                "                        '{:.2f}'.format(segment.length),\n",
                "                        False])\n",
                "\n",
                "    with open(config.output_csv, 'w', encoding='utf-8') as f:\n",
                "        writer = csv.writer(f)\n",
                "        writer.writerow(csv_header)\n",
                "        for row in csv_data:\n",
                "            writer.writerow(row)"
            ]
        }
    ],
    "metadata": {
        "kernelspec": {
            "display_name": "Python 3.7.13 ('base')",
            "language": "python",
            "name": "python3"
        },
        "language_info": {
            "codemirror_mode": {
                "name": "ipython",
                "version": 3
            },
            "file_extension": ".py",
            "mimetype": "text/x-python",
            "name": "python",
            "nbconvert_exporter": "python",
            "pygments_lexer": "ipython3",
            "version": "3.7.13"
        },
        "orig_nbformat": 4,
        "vscode": {
            "interpreter": {
                "hash": "40d3a090f54c6569ab1632332b64b2c03c39dcf918b08424e98f38b5ae0af88f"
            }
        }
    },
    "nbformat": 4,
    "nbformat_minor": 2
}
