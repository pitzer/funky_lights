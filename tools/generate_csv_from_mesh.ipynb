{
    "cells": [
        {
            "cell_type": "code",
            "execution_count": 18,
            "metadata": {},
            "outputs": [
                {
                    "name": "stdout",
                    "output_type": "stream",
                    "text": [
                        "The autoreload extension is already loaded. To reload it, use:\n",
                        "  %reload_ext autoreload\n",
                        "Segment dome/center: length=7.1m, num_clusters=32, num_leds=214\n",
                        "Segment dome/left: length=6.8m, num_clusters=43, num_leds=205\n",
                        "Segment dome/right: length=6.8m, num_clusters=43, num_leds=205\n",
                        "Segment trunk/Body1: length=5.0m, num_clusters=454, num_leds=150\n",
                        "Segment trunk/Body2: length=3.3m, num_clusters=281, num_leds=98\n",
                        "Segment trunk/Body3: length=3.0m, num_clusters=293, num_leds=91\n",
                        "Segment trunk/Body4: length=2.8m, num_clusters=259, num_leds=85\n",
                        "Segment trunk/Body5: length=2.6m, num_clusters=251, num_leds=79\n",
                        "Segment trunk/Body6: length=2.4m, num_clusters=217, num_leds=73\n",
                        "Segment trunk/Body7: length=2.2m, num_clusters=204, num_leds=67\n",
                        "Segment trunk/Body8: length=2.0m, num_clusters=157, num_leds=61\n"
                    ]
                }
            ],
            "source": [
                "import csv\n",
                "\n",
                "import led_config_utils\n",
                "import mesh_config\n",
                "from funky_lights import wavefront, led_config\n",
                "\n",
                "from importlib import reload\n",
                "reload(mesh_config)\n",
                "\n",
                "all_segments = {}\n",
                "for config in mesh_config.mesh_configs:\n",
                "    # if config.mesh != '../controller/mesh/legs.obj':\n",
                "    #     continue\n",
                "    uid = config.uid_offset\n",
                "    mesh = wavefront.load_obj(config.mesh)\n",
                "    segments = []\n",
                "    for group in mesh.groups:\n",
                "        data = led_config_utils.prepare_data(group)\n",
                "        data_2d = led_config_utils.project_2d(data)\n",
                "        clusters, labels = led_config_utils.cluster(\n",
                "            data_2d, eps=config.cluster_eps, min_samples=3)\n",
                "        points, length = led_config_utils.generate_led_positions(\n",
                "            data, clusters, labels, start_offset=config.start_offset, end_offset=config.end_offset, leds_per_meter=30)\n",
                "        print('Segment %s: length=%.1fm, num_clusters=%s, num_leds=%s' %\n",
                "              (group.name, length, len(clusters), len(points)))\n",
                "        if len(points) == 0:\n",
                "            continue\n",
                "        segment = led_config.Segment(\n",
                "            uid=uid, name=group.name, points=points, num_leds=points.shape[0], length=length)\n",
                "        segments.append(segment)\n",
                "        all_segments[uid] = segment\n",
                "        # led_config_utils.plot_segment(data, clusters, labels, points)\n",
                "        uid += 1\n",
                "\n",
                "    csv_header = ['uid', 'name', 'num_leds', 'length', 'reversed']\n",
                "    csv_data = []\n",
                "    for segment in segments:\n",
                "        csv_data.append([segment.uid,\n",
                "                        segment.name,\n",
                "                        segment.num_leds,\n",
                "                        segment.length,\n",
                "                        False])\n",
                "\n",
                "    with open(config.modelled_csv, 'w', encoding='utf-8') as f:\n",
                "        writer = csv.writer(f)\n",
                "        writer.writerow(csv_header)\n",
                "        for row in csv_data:\n",
                "            writer.writerow(row)\n"
            ]
        }
    ],
    "metadata": {
        "kernelspec": {
            "display_name": "Python 3.7.13 ('base')",
            "language": "python",
            "name": "python3"
        },
        "language_info": {
            "codemirror_mode": {
                "name": "ipython",
                "version": 3
            },
            "file_extension": ".py",
            "mimetype": "text/x-python",
            "name": "python",
            "nbconvert_exporter": "python",
            "pygments_lexer": "ipython3",
            "version": "3.7.13"
        },
        "orig_nbformat": 4,
        "vscode": {
            "interpreter": {
                "hash": "40d3a090f54c6569ab1632332b64b2c03c39dcf918b08424e98f38b5ae0af88f"
            }
        }
    },
    "nbformat": 4,
    "nbformat_minor": 2
}
