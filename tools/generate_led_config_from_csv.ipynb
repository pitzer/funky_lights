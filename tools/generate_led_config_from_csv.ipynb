{
    "cells": [
        {
            "cell_type": "code",
            "execution_count": 18,
            "metadata": {},
            "outputs": [
                {
                    "name": "stdout",
                    "output_type": "stream",
                    "text": [
                        "Segment head/ring1: length=3.5m, num_clusters=23, num_leds=99\n",
                        "Segment head/center: length=2.9m, num_clusters=13, num_leds=80\n",
                        "Segment head/ring2: length=6.2m, num_clusters=45, num_leds=181\n",
                        "Segment head/left_ear: length=4.0m, num_clusters=19, num_leds=113\n",
                        "Segment head/right_ear: length=4.0m, num_clusters=19, num_leds=113\n",
                        "Segment head/left: length=5.4m, num_clusters=27, num_leds=157\n",
                        "Segment head/right: length=5.4m, num_clusters=25, num_leds=157\n",
                        "Segment head/ring3: length=6.2m, num_clusters=31, num_leds=180\n"
                    ]
                },
                {
                    "ename": "KeyError",
                    "evalue": "10",
                    "output_type": "error",
                    "traceback": [
                        "\u001b[0;31m---------------------------------------------------------------------------\u001b[0m",
                        "\u001b[0;31mKeyError\u001b[0m                                  Traceback (most recent call last)",
                        "\u001b[0;32m/var/folders/0f/8pq76s252yg6b02mc2kzy1xc006nqm/T/ipykernel_26010/97573440.py\u001b[0m in \u001b[0;36m<module>\u001b[0;34m\u001b[0m\n\u001b[1;32m     68\u001b[0m \u001b[0mUIDS_TUSKS_LEFT\u001b[0m \u001b[0;34m=\u001b[0m \u001b[0;34m[\u001b[0m\u001b[0;36m36\u001b[0m\u001b[0;34m,\u001b[0m\u001b[0;36m3\u001b[0m\u001b[0;34m,\u001b[0m\u001b[0;36m38\u001b[0m\u001b[0;34m,\u001b[0m\u001b[0;36m39\u001b[0m\u001b[0;34m,\u001b[0m\u001b[0;36m40\u001b[0m\u001b[0;34m,\u001b[0m\u001b[0;36m41\u001b[0m\u001b[0;34m,\u001b[0m\u001b[0;36m42\u001b[0m\u001b[0;34m,\u001b[0m\u001b[0;36m43\u001b[0m\u001b[0;34m,\u001b[0m\u001b[0;36m44\u001b[0m\u001b[0;34m,\u001b[0m\u001b[0;36m45\u001b[0m\u001b[0;34m,\u001b[0m\u001b[0;36m46\u001b[0m\u001b[0;34m]\u001b[0m\u001b[0;34m\u001b[0m\u001b[0;34m\u001b[0m\u001b[0m\n\u001b[1;32m     69\u001b[0m \u001b[0;32mfor\u001b[0m \u001b[0mmerge_list\u001b[0m \u001b[0;32min\u001b[0m \u001b[0;34m[\u001b[0m\u001b[0mUIDS_TRUNK\u001b[0m\u001b[0;34m,\u001b[0m \u001b[0mUIDS_TUSKS_RIGHT\u001b[0m\u001b[0;34m,\u001b[0m \u001b[0mUIDS_TUSKS_LEFT\u001b[0m\u001b[0;34m]\u001b[0m\u001b[0;34m:\u001b[0m\u001b[0;34m\u001b[0m\u001b[0;34m\u001b[0m\u001b[0m\n\u001b[0;32m---> 70\u001b[0;31m     \u001b[0mmerged_segment\u001b[0m \u001b[0;34m=\u001b[0m \u001b[0mall_segments\u001b[0m\u001b[0;34m[\u001b[0m\u001b[0mmerge_list\u001b[0m\u001b[0;34m[\u001b[0m\u001b[0;36m0\u001b[0m\u001b[0;34m]\u001b[0m\u001b[0;34m]\u001b[0m\u001b[0;34m\u001b[0m\u001b[0;34m\u001b[0m\u001b[0m\n\u001b[0m\u001b[1;32m     71\u001b[0m     \u001b[0;32mfor\u001b[0m \u001b[0muid\u001b[0m \u001b[0;32min\u001b[0m \u001b[0mmerge_list\u001b[0m\u001b[0;34m[\u001b[0m\u001b[0;36m1\u001b[0m\u001b[0;34m:\u001b[0m\u001b[0;34m]\u001b[0m\u001b[0;34m:\u001b[0m\u001b[0;34m\u001b[0m\u001b[0;34m\u001b[0m\u001b[0m\n\u001b[1;32m     72\u001b[0m         \u001b[0msegment\u001b[0m \u001b[0;34m=\u001b[0m \u001b[0mall_segments\u001b[0m\u001b[0;34m.\u001b[0m\u001b[0mpop\u001b[0m\u001b[0;34m(\u001b[0m\u001b[0muid\u001b[0m\u001b[0;34m)\u001b[0m\u001b[0;34m\u001b[0m\u001b[0;34m\u001b[0m\u001b[0m\n",
                        "\u001b[0;31mKeyError\u001b[0m: 10"
                    ]
                }
            ],
            "source": [
                "import csv \n",
                "import json\n",
                "import numpy as np\n",
                "\n",
                "import led_config_utils\n",
                "import mesh_config\n",
                "from funky_lights import wavefront, led_config\n",
                "\n",
                "from importlib import reload\n",
                "reload(mesh_config)\n",
                "\n",
                "all_segments = {}\n",
                "for config in mesh_config.mesh_configs:\n",
                "    if config.mesh != '../controller/mesh/head.obj':\n",
                "        continue\n",
                "    mesh = wavefront.load_obj(config.mesh)\n",
                "    with open(config.actual_csv, 'r', encoding='utf-8') as f:\n",
                "        reader = csv.reader(f)\n",
                "        next(reader)  # skip header\n",
                "        segments=[]\n",
                "\n",
                "        for row in reader:\n",
                "            uid = int(row[0])\n",
                "            name = row[1]\n",
                "            actual_num_leds = int(row[2])\n",
                "            actual_length = float(row[3])\n",
                "            reverse = bool(row[4])\n",
                "            \n",
                "            for group in mesh.groups:\n",
                "                if group.name == name:\n",
                "                    break\n",
                "\n",
                "            group = next((g for g in mesh.groups if g.name == name), None)\n",
                "            if not group:\n",
                "                print(\"Couldn't find mesh group for %s\" % name)\n",
                "                continue\n",
                "\n",
                "            data = led_config_utils.prepare_data(group)\n",
                "            data_2d = led_config_utils.project_2d(data)\n",
                "            clusters, labels = led_config_utils.cluster(\n",
                "                data_2d, eps=config.cluster_eps, min_samples=3)\n",
                "\n",
                "            nodes = led_config_utils.create_line_segments(data, clusters, labels)\n",
                "            modelled_length = led_config_utils.line_segments_length(nodes)\n",
                "            modelled_length = modelled_length -  config.start_offset -  config.end_offset\n",
                "            if nodes == None:\n",
                "                continue\n",
                "            leds_distance = modelled_length / actual_num_leds\n",
                "            points = led_config_utils.trace_line_segments(nodes, actual_num_leds, config.start_offset, leds_distance)\n",
                "        \n",
                "            if len(points) == 0:\n",
                "                continue\n",
                "\n",
                "            if reverse:\n",
                "                points = np.flip(points, axis=0)\n",
                "\n",
                "            segment = led_config.Segment(\n",
                "                uid=uid, name=group.name, points=points, num_leds=points.shape[0], length=actual_length)\n",
                "            print('Segment %s: length=%.1fm, num_clusters=%s, num_leds=%s' %\n",
                "                  (segment.name, segment.length, len(clusters), segment.num_leds))\n",
                "            segments.append(segment)\n",
                "            all_segments[uid] = segment\n",
                "            # led_config_utils.plot_segment(data, clusters, labels, points)\n",
                "\n",
                "# Collapse some segments\n",
                "# UIDS_TRUNK = [10,11,12,13,14,15,16,17,18,19,20,21,22,23,24]\n",
                "# UIDS_TUSKS_RIGHT = [25,26,27,28,29,30,31,32,33,34,35]\n",
                "# UIDS_TUSKS_LEFT = [36,3,38,39,40,41,42,43,44,45,46]\n",
                "# for merge_list in [UIDS_TRUNK, UIDS_TUSKS_RIGHT, UIDS_TUSKS_LEFT]:\n",
                "#     merged_segment = all_segments[merge_list[0]]\n",
                "#     for uid in merge_list[1:]:\n",
                "#         segment = all_segments.pop(uid)\n",
                "#         merged_segment.merge(segment)\n",
                "\n",
                "# Create LED config\n",
                "config = led_config.LedConfig()\n",
                "for segment in all_segments.values():\n",
                "    config.led_segments.append(segment)\n",
                "    config.total_num_segments += 1\n",
                "    config.total_length += segment.length\n",
                "    config.total_num_leds += segment.num_leds\n",
                "\n",
                "with open('../config/led_config.json', 'w', encoding='utf-8') as f:\n",
                "    json.dump(config.to_dict(), f, ensure_ascii=False, indent=4)\n",
                "\n"
            ]
        }
    ],
    "metadata": {
        "kernelspec": {
            "display_name": "Python 3.7.13 ('base')",
            "language": "python",
            "name": "python3"
        },
        "language_info": {
            "codemirror_mode": {
                "name": "ipython",
                "version": 3
            },
            "file_extension": ".py",
            "mimetype": "text/x-python",
            "name": "python",
            "nbconvert_exporter": "python",
            "pygments_lexer": "ipython3",
            "version": "3.7.13"
        },
        "orig_nbformat": 4,
        "vscode": {
            "interpreter": {
                "hash": "40d3a090f54c6569ab1632332b64b2c03c39dcf918b08424e98f38b5ae0af88f"
            }
        }
    },
    "nbformat": 4,
    "nbformat_minor": 2
}
